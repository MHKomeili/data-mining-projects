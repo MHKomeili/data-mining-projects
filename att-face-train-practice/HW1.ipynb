{
 "cells": [
  {
   "cell_type": "code",
   "execution_count": 15,
   "metadata": {
    "scrolled": true
   },
   "outputs": [
    {
     "name": "stdout",
     "output_type": "stream",
     "text": [
      "Collecting package metadata (current_repodata.json): done\n",
      "Solving environment: done\n",
      "\n",
      "# All requested packages already installed.\n",
      "\n"
     ]
    }
   ],
   "source": [
    "#in case of not having this package\n",
    "#! conda install pillow"
   ]
  },
  {
   "cell_type": "code",
   "execution_count": 66,
   "metadata": {},
   "outputs": [],
   "source": [
    "import numpy as np\n",
    "import matplotlib.pyplot as plt\n",
    "from os.path import join\n",
    "import pandas as pd\n",
    "import cv2"
   ]
  },
  {
   "cell_type": "code",
   "execution_count": 67,
   "metadata": {},
   "outputs": [],
   "source": [
    "data_folder = \"att_faces/s\""
   ]
  },
  {
   "cell_type": "code",
   "execution_count": 73,
   "metadata": {},
   "outputs": [
    {
     "name": "stdout",
     "output_type": "stream",
     "text": [
      "(200, 1024)\n",
      "(200,)\n"
     ]
    }
   ],
   "source": [
    "for epoch in range(20):\n",
    "    # train\n",
    "    target = []\n",
    "    X = np.array([],dtype=int)\n",
    "    for num in range(1,41):\n",
    "        trainList = np.random.choice(range(1,11), 5, replace=False)\n",
    "         #trainList = np.array([1,2,3,4,5])\n",
    "        for j in trainList:\n",
    "            file_path = join(data_folder + str(num), str(j) + \".pgm\")\n",
    "            #file_path = \"att_faces/s%d/%d.pgm\" % (num,j)\n",
    "            loaded_image=np.array(plt.imread(file_path))\n",
    "            image_32x32 = cv2.resize(loaded_image, (32, 32), interpolation=cv2.IMREAD_GRAYSCALE)\n",
    "            image_1024 = image_32x32.reshape(-1)\n",
    "            X = np.concatenate((X,image_1024),axis=0)\n",
    "            target.append(num)\n",
    "    X = np.reshape(X,(200,1024))\n",
    "    #X = X.T #? :/\n",
    "    \n",
    "print(np.shape(X))\n",
    "target = np.array(target)\n",
    "y = target\n",
    "print(y.shape)\n",
    "        "
   ]
  },
  {
   "cell_type": "code",
   "execution_count": 74,
   "metadata": {},
   "outputs": [
    {
     "name": "stdout",
     "output_type": "stream",
     "text": [
      "(200, 1024)\n",
      "Covariance Matrix :\n",
      " [[200.         198.81390572 197.76779436 ... -13.97728358   6.98073279\n",
      "    1.0035089 ]\n",
      " [198.81390572 200.         197.85478187 ... -14.6473354    5.87660451\n",
      "    0.89025489]\n",
      " [197.76779436 197.85478187 200.         ... -14.0428459    7.52657149\n",
      "    4.25516265]\n",
      " ...\n",
      " [-13.97728358 -14.6473354  -14.0428459  ... 200.         152.12343749\n",
      "  133.89038525]\n",
      " [  6.98073279   5.87660451   7.52657149 ... 152.12343749 200.\n",
      "  157.9354174 ]\n",
      " [  1.0035089    0.89025489   4.25516265 ... 133.89038525 157.9354174\n",
      "  200.        ]]\n",
      "\n",
      "\n",
      "\n",
      "shape of Covariance Matrix :\n",
      " (1024, 1024)\n"
     ]
    }
   ],
   "source": [
    "from sklearn.preprocessing import StandardScaler\n",
    "\n",
    "standardized_data = StandardScaler().fit_transform(X)\n",
    "#print(scaler.fit(X))\n",
    "print(standardized_data.shape)\n",
    "sample_data = standardized_data\n",
    "#print(scaler.transform(X)) # Here we should transform test data via scaler\n",
    "covariance_matrix = np.matmul(sample_data.T, sample_data) # It should be checked\n",
    "print('Covariance Matrix :\\n',covariance_matrix)\n",
    "print('\\n\\n')\n",
    "print('shape of Covariance Matrix :\\n',covariance_matrix.shape)\n",
    "\n"
   ]
  },
  {
   "cell_type": "code",
   "execution_count": 75,
   "metadata": {},
   "outputs": [
    {
     "name": "stdout",
     "output_type": "stream",
     "text": [
      "Shape of Eigen Vectors : \n",
      " (1024, 5)\n",
      "Updated shape of Eigen Vectors : \n",
      " (5, 1024)\n"
     ]
    }
   ],
   "source": [
    "from scipy.linalg import eigh\n",
    "eigen_values, eigen_vectors = eigh(covariance_matrix, eigvals=(1019,1023))\n",
    "\n",
    "print('Shape of Eigen Vectors : \\n',eigen_vectors.shape)\n",
    "eigen_vectors = eigen_vectors.T\n",
    "print('Updated shape of Eigen Vectors : \\n',eigen_vectors.shape)\n",
    "\n"
   ]
  },
  {
   "cell_type": "code",
   "execution_count": 90,
   "metadata": {},
   "outputs": [
    {
     "name": "stdout",
     "output_type": "stream",
     "text": [
      "\n",
      "shape of eigen vectors ---  shape of traversed sample_data ---  shape of new coordinates\n",
      "\n",
      "\t (5, 1024) \t,\t    (1024, 200) \t,\t (5, 200)\n",
      "\n",
      "                      ********************************************* \n",
      "\n",
      "\t\t\t (5, 1024)  x  (1024, 200)  =  (5, 200)\n",
      "\n"
     ]
    }
   ],
   "source": [
    "new_coordinates = np.matmul(eigen_vectors, sample_data.T)\n",
    "\n",
    "print()\n",
    "print( 'shape of eigen vectors ---' , ' shape of traversed sample_data ---' , ' shape of new coordinates')\n",
    "print()\n",
    "print( '\\t',eigen_vectors.shape,'\\t,\\t   ', sample_data.T.shape,'\\t,\\t', new_coordinates.shape)\n",
    "print('\\n',' '*20,'*'*45,'\\n')\n",
    "print('\\t\\t\\t',eigen_vectors.shape,' x ', sample_data.T.shape,' = ', new_coordinates.shape)\n",
    "print()\n"
   ]
  },
  {
   "cell_type": "code",
   "execution_count": 91,
   "metadata": {},
   "outputs": [
    {
     "name": "stdout",
     "output_type": "stream",
     "text": [
      "********************************************************************************\n",
      "   1st_principal  2nd_principal  3rd_principal  4th_principal  5th_principal  \\\n",
      "0      -1.102376     -19.837670       8.280800      11.668429     -20.296848   \n",
      "1      16.268796      -8.796844       7.899893       8.126845     -19.073388   \n",
      "2       5.314170     -21.742105       4.681894      12.794841     -22.476170   \n",
      "3       9.583101      -2.522503      15.133640       9.581082     -14.800263   \n",
      "4       2.985377       3.193736      18.858437       3.358415     -11.645197   \n",
      "5      -0.242146      -3.870902      12.519508       8.486175       4.052904   \n",
      "6       0.606414      -0.056091      11.025319      11.093444       3.818832   \n",
      "7       5.946500       5.074281      13.495140       5.874388       5.798257   \n",
      "8       1.999915      -2.809043       6.895388      12.751400       2.668384   \n",
      "9       3.075505       1.910971      13.731485       8.568496       5.583157   \n",
      "\n",
      "   label  \n",
      "0    1.0  \n",
      "1    1.0  \n",
      "2    1.0  \n",
      "3    1.0  \n",
      "4    1.0  \n",
      "5    2.0  \n",
      "6    2.0  \n",
      "7    2.0  \n",
      "8    2.0  \n",
      "9    2.0  \n"
     ]
    }
   ],
   "source": [
    "new_coordinates = np.vstack((new_coordinates, y)).T\n",
    "columns=(\"1st_principal\",\"2nd_principal\",\"3rd_principal\",\"4th_principal\",\"5th_principal\",\"label\")\n",
    "dataframe = pd.DataFrame(data=new_coordinates, columns=columns)\n",
    "print(\"*\"*80)\n",
    "print(dataframe.head(10))"
   ]
  },
  {
   "cell_type": "code",
   "execution_count": null,
   "metadata": {},
   "outputs": [],
   "source": []
  },
  {
   "cell_type": "code",
   "execution_count": null,
   "metadata": {},
   "outputs": [],
   "source": []
  }
 ],
 "metadata": {
  "kernelspec": {
   "display_name": "Python 3",
   "language": "python",
   "name": "python3"
  },
  "language_info": {
   "codemirror_mode": {
    "name": "ipython",
    "version": 3
   },
   "file_extension": ".py",
   "mimetype": "text/x-python",
   "name": "python",
   "nbconvert_exporter": "python",
   "pygments_lexer": "ipython3",
   "version": "3.6.10"
  }
 },
 "nbformat": 4,
 "nbformat_minor": 4
}
