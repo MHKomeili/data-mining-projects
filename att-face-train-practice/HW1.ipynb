{
 "cells": [
  {
   "cell_type": "code",
   "execution_count": 1,
   "metadata": {
    "scrolled": true
   },
   "outputs": [],
   "source": [
    "#in case of not having this package\n",
    "#! pip install pillow"
   ]
  },
  {
   "cell_type": "code",
   "execution_count": 76,
   "metadata": {},
   "outputs": [],
   "source": [
    "import numpy as np\n",
    "from sklearn.preprocessing import StandardScaler\n",
    "import matplotlib.pyplot as plt\n",
    "from os.path import join\n",
    "import pandas as pd\n",
    "import cv2\n",
    "from scipy.linalg import eigh\n",
    "from sklearn.neighbors import KNeighborsClassifier\n",
    "from sklearn.metrics import accuracy_score\n",
    "\n"
   ]
  },
  {
   "cell_type": "code",
   "execution_count": null,
   "metadata": {},
   "outputs": [],
   "source": []
  },
  {
   "cell_type": "markdown",
   "metadata": {},
   "source": [
    "first of all we use the first 5 pictures of each class for feature extraction using PCA . \\\n",
    "In other words we use the first 5 pictures for dimentionality reduction using PCA . \\\n",
    "Note that the dataset has 40 classes with 10 pictures so it has 400 images or instance. \\\n",
    "pictures' dimensions are 1024 by 1024 so we resize them to 32 by 32 to get 1024 pixels or features"
   ]
  },
  {
   "cell_type": "code",
   "execution_count": 54,
   "metadata": {},
   "outputs": [],
   "source": [
    "data_folder = \"att_faces/s\"\n",
    "\n",
    "def ReadFile(num,index):\n",
    "    file_path = join(data_folder + str(num), str(index) + \".pgm\")\n",
    "    loaded_image=np.array(plt.imread(file_path))\n",
    "    image_32x32 = cv2.resize(loaded_image, (32, 32), interpolation=cv2.IMREAD_GRAYSCALE)\n",
    "    image_1024 = image_32x32.reshape(-1)\n",
    "    return image_1024\n",
    "    "
   ]
  },
  {
   "cell_type": "markdown",
   "metadata": {},
   "source": [
    "## Use first 5 sample of each person"
   ]
  },
  {
   "cell_type": "code",
   "execution_count": 135,
   "metadata": {},
   "outputs": [
    {
     "name": "stdout",
     "output_type": "stream",
     "text": [
      "shape of X_train:  (1024, 200)\n",
      "accuray on 5 features is 58.50\n",
      "accuray on 10 features is 80.00\n",
      "accuray on 15 features is 79.00\n",
      "accuray on 20 features is 82.00\n",
      "accuray on 25 features is 83.00\n",
      "accuray on 30 features is 83.50\n",
      "accuray on 35 features is 84.00\n",
      "accuray on 40 features is 83.00\n",
      "accuray on 45 features is 83.50\n",
      "accuray on 50 features is 84.00\n",
      "accuray on 55 features is 84.50\n",
      "accuray on 60 features is 84.00\n",
      "accuray on 65 features is 83.00\n",
      "accuray on 70 features is 84.00\n",
      "accuray on 75 features is 83.50\n",
      "accuray on 80 features is 83.50\n",
      "accuray on 85 features is 83.50\n",
      "accuray on 90 features is 83.50\n",
      "accuray on 95 features is 83.50\n",
      "accuray on 100 features is 83.50\n",
      "accuray on 105 features is 83.50\n",
      "accuray on 110 features is 83.00\n",
      "accuray on 115 features is 82.50\n",
      "accuray on 120 features is 82.50\n",
      "accuray on 125 features is 82.00\n",
      "accuray on 130 features is 81.50\n",
      "accuray on 135 features is 81.50\n",
      "accuray on 140 features is 81.00\n",
      "accuray on 145 features is 82.50\n",
      "accuray on 150 features is 81.50\n",
      "accuray on 155 features is 81.50\n",
      "accuray on 160 features is 82.00\n",
      "accuray on 165 features is 81.50\n",
      "accuray on 170 features is 81.00\n",
      "accuray on 175 features is 81.50\n",
      "accuray on 180 features is 82.00\n",
      "accuray on 185 features is 82.00\n",
      "accuray on 190 features is 82.00\n",
      "accuray on 195 features is 82.50\n"
     ]
    }
   ],
   "source": [
    "\n",
    "y_train = []\n",
    "y_test = []\n",
    "\n",
    "X_train = np.array([],dtype=int)\n",
    "X_test = np.array([],dtype=int)\n",
    "\n",
    "for num in range(1,41):\n",
    "    #trainList = np.random.choice(range(1,11), 5, replace=False)\n",
    "    trainList = np.array([1,2,3,4,5])\n",
    "    testList = np.array([6,7,8,9,10])\n",
    "    \n",
    "    for index in trainList:\n",
    "        image_1024 = ReadFile(num,index)\n",
    "        X_train = np.concatenate((X_train,image_1024),axis=0)\n",
    "        y_train.append(num)\n",
    "        \n",
    "    for index in testList:\n",
    "        image_1024 = ReadFile(num,index)\n",
    "        X_test = np.concatenate((X_test,image_1024),axis=0)\n",
    "        y_test.append(num)\n",
    "        \n",
    "X_train = np.reshape(X_train,(200,1024)).T\n",
    "X_test = np.reshape(X_test,(200,1024)).T\n",
    "\n",
    "\n",
    "y_train = np.array(y_train)\n",
    "y_test = np.array(y_test)\n",
    "print(\"shape of X_train: \",np.shape(X_train)) #(1024,200)   \n",
    "\n",
    "### Standardized\n",
    "\n",
    "stScaler = StandardScaler()\n",
    "\n",
    "standardized_X_train = stScaler.fit_transform(X_train)\n",
    "\n",
    "standardized_X_test = stScaler.transform(X_test)\n",
    "# print(\"variance of features: \\n\",np.var(standardized_data,axis=0)) # [1,...,1]\n",
    "\n",
    "R_x = np.cov(standardized_X_train)\n",
    "# print('\\n\\n shape of Covariance Matrix :\\n',R_x.shape) # (1024,1024)\n",
    "accuracies=[]\n",
    "number_of_features = range(5,200,5)\n",
    "for number_of_feature in number_of_features:\n",
    "    eigen_values, eigen_vectors = eigh(R_x, eigvals=(1024-number_of_feature,1023))\n",
    "    # print('\\nMax %d Eigen Values : \\n' %number_of_feature ,eigen_values)\n",
    "    transform_matris = eigen_vectors\n",
    "    # print('Shape of selsected Eigen Vectors : ',transform_matris.shape) #(1024,5)\n",
    "\n",
    "    reduced_X_train = np.matmul(transform_matris.T,standardized_X_train).T\n",
    "    reduced_X_test = np.matmul(transform_matris.T,standardized_X_test).T\n",
    "    # print('\\nShape of reduced X_train: ',reduced_X_train.shape) # (200,5)\n",
    "    # print('\\nShape of reduced X_train: ',reduced_X_test.shape) # (200,5)\n",
    "\n",
    "\n",
    "    knn = KNeighborsClassifier(n_neighbors=1)\n",
    "    knn.fit(reduced_X_train, y_train)\n",
    "    y_pred = knn.predict(reduced_X_test)\n",
    "    accuracies.append(accuracy_score(y_test, y_pred)*100)\n",
    "    print(\"accuray on %d features is %.2f\" % (number_of_feature ,(accuracy_score(y_test, y_pred)*100)))\n",
    "\n",
    "number_of_features_in_static_trainlist = number_of_features\n",
    "accuracies_in_static_trainlist = accuracies\n",
    "   "
   ]
  },
  {
   "cell_type": "code",
   "execution_count": 137,
   "metadata": {},
   "outputs": [
    {
     "name": "stdout",
     "output_type": "stream",
     "text": [
      "[58.5, 80.0, 79.0, 82.0, 83.0, 83.5, 84.0, 83.0, 83.5, 84.0, 84.5, 84.0, 83.0, 84.0, 83.5, 83.5, 83.5, 83.5, 83.5, 83.5, 83.5, 83.0, 82.5, 82.5, 82.0, 81.5, 81.5, 81.0, 82.5, 81.5, 81.5, 82.0, 81.5, 81.0, 81.5, 82.0, 82.0, 82.0, 82.5]\n"
     ]
    },
    {
     "data": {
      "image/png": "[encoded data removed]",
      "text/plain": [
       "<Figure size 1440x576 with 1 Axes>"
      ]
     },
     "metadata": {
      "needs_background": "light"
     },
     "output_type": "display_data"
    }
   ],
   "source": [
    "print(accuracies_in_static_trainlist)\n",
    "\n",
    "fig = plt.figure(figsize=(20,8))\n",
    "plt.plot(number_of_features_in_static_trainlist,accuracies_in_static_trainlist)\n",
    "plt.plot(number_of_features_in_static_trainlist,accuracies_in_static_trainlist,'o')\n",
    "plt.xlabel(\"Number of features\")\n",
    "plt.ylabel(\"Accuracy in %\")\n",
    "plt.xticks(number_of_features)\n",
    "plt.grid()\n",
    "plt.show()\n",
    "\n",
    "\n",
    "\n",
    "# print(y_train.shape)\n",
    "# print(X_train[:,0])\n",
    "        "
   ]
  },
  {
   "cell_type": "markdown",
   "metadata": {},
   "source": [
    "## Use 5 sample of each person randomly for 20 times"
   ]
  },
  {
   "cell_type": "code",
   "execution_count": null,
   "metadata": {},
   "outputs": [],
   "source": []
  }
 ],
 "metadata": {
  "kernelspec": {
   "display_name": "Python 3",
   "language": "python",
   "name": "python3"
  },
  "language_info": {
   "codemirror_mode": {
    "name": "ipython",
    "version": 3
   },
   "file_extension": ".py",
   "mimetype": "text/x-python",
   "name": "python",
   "nbconvert_exporter": "python",
   "pygments_lexer": "ipython3",
   "version": "3.8.2"
  }
 },
 "nbformat": 4,
 "nbformat_minor": 4
}
