{
 "cells": [
  {
   "cell_type": "code",
   "execution_count": 15,
   "metadata": {
    "scrolled": true
   },
   "outputs": [
    {
     "name": "stdout",
     "output_type": "stream",
     "text": [
      "Collecting package metadata (current_repodata.json): done\n",
      "Solving environment: done\n",
      "\n",
      "# All requested packages already installed.\n",
      "\n"
     ]
    }
   ],
   "source": [
    "#in case of not having this package\n",
    "#! conda install pillow"
   ]
  },
  {
   "cell_type": "code",
   "execution_count": 66,
   "metadata": {},
   "outputs": [],
   "source": [
    "import numpy as np\n",
    "import matplotlib.pyplot as plt\n",
    "from os.path import join\n",
    "import pandas as pd\n",
    "import cv2"
   ]
  },
  {
   "cell_type": "code",
   "execution_count": 67,
   "metadata": {},
   "outputs": [],
   "source": [
    "data_folder = \"att_faces/s\""
   ]
  },
  {
   "cell_type": "code",
   "execution_count": 73,
   "metadata": {},
   "outputs": [
    {
     "name": "stdout",
     "output_type": "stream",
     "text": [
      "(200, 1024)\n",
      "(200,)\n"
     ]
    }
   ],
   "source": [
    "for epoch in range(20):\n",
    "    # train\n",
    "    target = []\n",
    "    X = np.array([],dtype=int)\n",
    "    for num in range(1,41):\n",
    "        trainList = np.random.choice(range(1,11), 5, replace=False)\n",
    "         #trainList = np.array([1,2,3,4,5])\n",
    "        for j in trainList:\n",
    "            file_path = join(data_folder + str(num), str(j) + \".pgm\")\n",
    "            #file_path = \"att_faces/s%d/%d.pgm\" % (num,j)\n",
    "            loaded_image=np.array(plt.imread(file_path))\n",
    "            image_32x32 = cv2.resize(loaded_image, (32, 32), interpolation=cv2.IMREAD_GRAYSCALE)\n",
    "            image_1024 = image_32x32.reshape(-1)\n",
    "            X = np.concatenate((X,image_1024),axis=0)\n",
    "            target.append(num)\n",
    "    X = np.reshape(X,(200,1024))\n",
    "    #X = X.T #? :/\n",
    "    \n",
    "print(np.shape(X))\n",
    "target = np.array(target)\n",
    "y = target\n",
    "print(y.shape)\n",
    "        "
   ]
  },
  {
   "cell_type": "code",
   "execution_count": 74,
   "metadata": {},
   "outputs": [
    {
     "name": "stdout",
     "output_type": "stream",
     "text": [
      "(200, 1024)\n",
      "Covariance Matrix :\n",
      " [[200.         198.81390572 197.76779436 ... -13.97728358   6.98073279\n",
      "    1.0035089 ]\n",
      " [198.81390572 200.         197.85478187 ... -14.6473354    5.87660451\n",
      "    0.89025489]\n",
      " [197.76779436 197.85478187 200.         ... -14.0428459    7.52657149\n",
      "    4.25516265]\n",
      " ...\n",
      " [-13.97728358 -14.6473354  -14.0428459  ... 200.         152.12343749\n",
      "  133.89038525]\n",
      " [  6.98073279   5.87660451   7.52657149 ... 152.12343749 200.\n",
      "  157.9354174 ]\n",
      " [  1.0035089    0.89025489   4.25516265 ... 133.89038525 157.9354174\n",
      "  200.        ]]\n",
      "\n",
      "\n",
      "\n",
      "shape of Covariance Matrix :\n",
      " (1024, 1024)\n"
     ]
    }
   ],
   "source": [
    "from sklearn.preprocessing import StandardScaler\n",
    "\n",
    "standardized_data = StandardScaler().fit_transform(X)\n",
    "#print(scaler.fit(X))\n",
    "print(standardized_data.shape)\n",
    "sample_data = standardized_data\n",
    "#print(scaler.transform(X)) # Here we should transform test data via scaler\n",
    "covariance_matrix = np.matmul(sample_data.T, sample_data) # It should be checked\n",
    "print('Covariance Matrix :\\n',covariance_matrix)\n",
    "print('\\n\\n')\n",
    "print('shape of Covariance Matrix :\\n',covariance_matrix.shape)\n",
    "\n"
   ]
  },
  {
   "cell_type": "code",
   "execution_count": 75,
   "metadata": {},
   "outputs": [
    {
     "name": "stdout",
     "output_type": "stream",
     "text": [
      "Shape of Eigen Vectors : \n",
      " (1024, 5)\n",
      "Updated shape of Eigen Vectors : \n",
      " (5, 1024)\n"
     ]
    }
   ],
   "source": [
    "from scipy.linalg import eigh\n",
    "eigen_values, eigen_vectors = eigh(covariance_matrix, eigvals=(1019,1023))\n",
    "\n",
    "print('Shape of Eigen Vectors : \\n',eigen_vectors.shape)\n",
    "eigen_vectors = eigen_vectors.T\n",
    "print('Updated shape of Eigen Vectors : \\n',eigen_vectors.shape)\n",
    "\n"
   ]
  },
  {
   "cell_type": "code",
   "execution_count": 76,
   "metadata": {},
   "outputs": [
    {
     "name": "stdout",
     "output_type": "stream",
     "text": [
      "\n",
      "shape of eigen vectors ---  shape of traversed sample_data ---  shape of new coordinates\n",
      "\n",
      "\t (5, 1024) \t,\t    (1024, 200) \t,\t (5, 200)\n",
      "\n",
      "                      ********************************************* \n",
      "\n",
      "\t\t\t (5, 1024)  x  (1024, 200)  =  (5, 200)\n",
      "\n"
     ]
    }
   ],
   "source": [
    "new_coordinates = np.matmul(eigen_vectors, sample_data.T)\n",
    "\n",
    "print()\n",
    "print( 'shape of eigen vectors ---' , ' shape of traversed sample_data ---' , ' shape of new coordinates')\n",
    "print()\n",
    "print( '\\t',eigen_vectors.shape,'\\t,\\t   ', sample_data.T.shape,'\\t,\\t', new_coordinates.shape)\n",
    "print('\\n',' '*20,'*'*45,'\\n')\n",
    "print('\\t\\t\\t',eigen_vectors.shape,' x ', sample_data.T.shape,' = ', new_coordinates.shape)\n",
    "print()\n"
   ]
  },
  {
   "cell_type": "code",
   "execution_count": 78,
   "metadata": {},
   "outputs": [
    {
     "ename": "ValueError",
     "evalue": "all the input array dimensions for the concatenation axis must match exactly, but along dimension 1, the array at index 0 has size 6 and the array at index 1 has size 200",
     "output_type": "error",
     "traceback": [
      "\u001b[0;31m---------------------------------------------------------------------------\u001b[0m",
      "\u001b[0;31mValueError\u001b[0m                                Traceback (most recent call last)",
      "\u001b[0;32m<ipython-input-78-770109fb3cc8>\u001b[0m in \u001b[0;36m<module>\u001b[0;34m\u001b[0m\n\u001b[0;32m----> 1\u001b[0;31m \u001b[0mnew_coordinates\u001b[0m \u001b[0;34m=\u001b[0m \u001b[0mnp\u001b[0m\u001b[0;34m.\u001b[0m\u001b[0mvstack\u001b[0m\u001b[0;34m(\u001b[0m\u001b[0;34m(\u001b[0m\u001b[0mnew_coordinates\u001b[0m\u001b[0;34m,\u001b[0m \u001b[0my\u001b[0m\u001b[0;34m)\u001b[0m\u001b[0;34m)\u001b[0m\u001b[0;34m.\u001b[0m\u001b[0mT\u001b[0m\u001b[0;34m\u001b[0m\u001b[0;34m\u001b[0m\u001b[0m\n\u001b[0m\u001b[1;32m      2\u001b[0m \u001b[0mcolumns\u001b[0m\u001b[0;34m=\u001b[0m\u001b[0;34m(\u001b[0m\u001b[0;34m\"1st_principal\"\u001b[0m\u001b[0;34m,\u001b[0m\u001b[0;34m\"2nd_principal\"\u001b[0m\u001b[0;34m,\u001b[0m\u001b[0;34m\"3rd_principal\"\u001b[0m\u001b[0;34m,\u001b[0m\u001b[0;34m\"4th_principal\"\u001b[0m\u001b[0;34m,\u001b[0m\u001b[0;34m\"5th_principal\"\u001b[0m\u001b[0;34m,\u001b[0m\u001b[0;34m\"label\"\u001b[0m\u001b[0;34m)\u001b[0m\u001b[0;34m\u001b[0m\u001b[0;34m\u001b[0m\u001b[0m\n\u001b[1;32m      3\u001b[0m \u001b[0mdataframe\u001b[0m \u001b[0;34m=\u001b[0m \u001b[0mpd\u001b[0m\u001b[0;34m.\u001b[0m\u001b[0mDataFrame\u001b[0m\u001b[0;34m(\u001b[0m\u001b[0mdata\u001b[0m\u001b[0;34m=\u001b[0m\u001b[0mnew_coordinates\u001b[0m\u001b[0;34m,\u001b[0m \u001b[0mcolumns\u001b[0m\u001b[0;34m=\u001b[0m\u001b[0mcolumns\u001b[0m\u001b[0;34m)\u001b[0m\u001b[0;34m\u001b[0m\u001b[0;34m\u001b[0m\u001b[0m\n\u001b[1;32m      4\u001b[0m \u001b[0mprint\u001b[0m\u001b[0;34m(\u001b[0m\u001b[0;34m\"*\"\u001b[0m\u001b[0;34m*\u001b[0m\u001b[0;36m100\u001b[0m\u001b[0;34m)\u001b[0m\u001b[0;34m\u001b[0m\u001b[0;34m\u001b[0m\u001b[0m\n\u001b[1;32m      5\u001b[0m \u001b[0mprint\u001b[0m\u001b[0;34m(\u001b[0m\u001b[0mdataframe\u001b[0m\u001b[0;34m.\u001b[0m\u001b[0mhead\u001b[0m\u001b[0;34m(\u001b[0m\u001b[0;36m10\u001b[0m\u001b[0;34m)\u001b[0m\u001b[0;34m)\u001b[0m\u001b[0;34m\u001b[0m\u001b[0;34m\u001b[0m\u001b[0m\n",
      "\u001b[0;32m<__array_function__ internals>\u001b[0m in \u001b[0;36mvstack\u001b[0;34m(*args, **kwargs)\u001b[0m\n",
      "\u001b[0;32m~/anaconda3/envs/envforcvpy36/lib/python3.6/site-packages/numpy/core/shape_base.py\u001b[0m in \u001b[0;36mvstack\u001b[0;34m(tup)\u001b[0m\n\u001b[1;32m    281\u001b[0m     \u001b[0;32mif\u001b[0m \u001b[0;32mnot\u001b[0m \u001b[0misinstance\u001b[0m\u001b[0;34m(\u001b[0m\u001b[0marrs\u001b[0m\u001b[0;34m,\u001b[0m \u001b[0mlist\u001b[0m\u001b[0;34m)\u001b[0m\u001b[0;34m:\u001b[0m\u001b[0;34m\u001b[0m\u001b[0;34m\u001b[0m\u001b[0m\n\u001b[1;32m    282\u001b[0m         \u001b[0marrs\u001b[0m \u001b[0;34m=\u001b[0m \u001b[0;34m[\u001b[0m\u001b[0marrs\u001b[0m\u001b[0;34m]\u001b[0m\u001b[0;34m\u001b[0m\u001b[0;34m\u001b[0m\u001b[0m\n\u001b[0;32m--> 283\u001b[0;31m     \u001b[0;32mreturn\u001b[0m \u001b[0m_nx\u001b[0m\u001b[0;34m.\u001b[0m\u001b[0mconcatenate\u001b[0m\u001b[0;34m(\u001b[0m\u001b[0marrs\u001b[0m\u001b[0;34m,\u001b[0m \u001b[0;36m0\u001b[0m\u001b[0;34m)\u001b[0m\u001b[0;34m\u001b[0m\u001b[0;34m\u001b[0m\u001b[0m\n\u001b[0m\u001b[1;32m    284\u001b[0m \u001b[0;34m\u001b[0m\u001b[0m\n\u001b[1;32m    285\u001b[0m \u001b[0;34m\u001b[0m\u001b[0m\n",
      "\u001b[0;32m<__array_function__ internals>\u001b[0m in \u001b[0;36mconcatenate\u001b[0;34m(*args, **kwargs)\u001b[0m\n",
      "\u001b[0;31mValueError\u001b[0m: all the input array dimensions for the concatenation axis must match exactly, but along dimension 1, the array at index 0 has size 6 and the array at index 1 has size 200"
     ]
    }
   ],
   "source": [
    "new_coordinates = np.vstack((new_coordinates, y)).T\n",
    "columns=(\"1st_principal\",\"2nd_principal\",\"3rd_principal\",\"4th_principal\",\"5th_principal\",\"label\")\n",
    "dataframe = pd.DataFrame(data=new_coordinates, columns=columns)\n",
    "print(\"*\"*100)\n",
    "print(dataframe.head(10))"
   ]
  },
  {
   "cell_type": "code",
   "execution_count": null,
   "metadata": {},
   "outputs": [],
   "source": []
  },
  {
   "cell_type": "code",
   "execution_count": null,
   "metadata": {},
   "outputs": [],
   "source": []
  }
 ],
 "metadata": {
  "kernelspec": {
   "display_name": "Python 3",
   "language": "python",
   "name": "python3"
  },
  "language_info": {
   "codemirror_mode": {
    "name": "ipython",
    "version": 3
   },
   "file_extension": ".py",
   "mimetype": "text/x-python",
   "name": "python",
   "nbconvert_exporter": "python",
   "pygments_lexer": "ipython3",
   "version": "3.6.10"
  }
 },
 "nbformat": 4,
 "nbformat_minor": 4
}
