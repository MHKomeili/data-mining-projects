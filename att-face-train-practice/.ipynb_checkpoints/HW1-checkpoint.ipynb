{
 "cells": [
  {
   "cell_type": "code",
   "execution_count": 208,
   "metadata": {},
   "outputs": [],
   "source": [
    "import numpy as np\n",
    "import matplotlib.pyplot as plt\n",
    "from pathlib import Path"
   ]
  },
  {
   "cell_type": "markdown",
   "metadata": {},
   "source": [
    "In case of requirements ware not installed:"
   ]
  },
  {
   "cell_type": "code",
   "execution_count": 205,
   "metadata": {},
   "outputs": [],
   "source": [
    "# !python -m pip install Pillow numpy matplotlib"
   ]
  },
  {
   "cell_type": "code",
   "execution_count": 207,
   "metadata": {},
   "outputs": [
    {
     "name": "stdout",
     "output_type": "stream",
     "text": [
      "(1024, 200)\n"
     ]
    }
   ],
   "source": [
    "for epoch in range(1,21):\n",
    "    # train\n",
    "    output = np.array([])\n",
    "    X = np.array([[]],dtype=int)\n",
    "    for num in range(1,41):\n",
    "        trainList = np.random.choice(range(1,11), 5, replace=False)\n",
    "        # trainList = np.array([1,2,3,4,5])\n",
    "        for j in trainList:\n",
    "            file_to_open = data_folder / ( \"s%d\" % num) / (\"%d.pgm\" % j)\n",
    "            loaded_image=np.array(plt.imread(file_to_open))\n",
    "            image_32x32 = np.resize(loaded_image,(32,32))\n",
    "            image_1024 = np.reshape(image_32x32,(1,1024))\n",
    "            X = np.concatenate((X,image_1024),axis=1)\n",
    "    X = np.reshape(X,(200,1024))\n",
    "    X = X.T #? :/\n",
    "    print(np.shape(X))\n",
    "    \n",
    "    \n",
    "    \n"
   ]
  },
  {
   "cell_type": "code",
   "execution_count": null,
   "metadata": {},
   "outputs": [],
   "source": []
  }
 ],
 "metadata": {
  "kernelspec": {
   "display_name": "Python 3",
   "language": "python",
   "name": "python3"
  },
  "language_info": {
   "codemirror_mode": {
    "name": "ipython",
    "version": 3
   },
   "file_extension": ".py",
   "mimetype": "text/x-python",
   "name": "python",
   "nbconvert_exporter": "python",
   "pygments_lexer": "ipython3",
   "version": "3.8.2"
  }
 },
 "nbformat": 4,
 "nbformat_minor": 4
}
